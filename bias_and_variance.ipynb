{
  "nbformat": 4,
  "nbformat_minor": 0,
  "metadata": {
    "colab": {
      "name": "bias and variance.ipynb",
      "provenance": []
    },
    "kernelspec": {
      "name": "python3",
      "display_name": "Python 3"
    },
    "language_info": {
      "name": "python"
    }
  },
  "cells": [
    {
      "cell_type": "code",
      "source": [
        "%pip install mlxtend --upgrade"
      ],
      "metadata": {
        "colab": {
          "base_uri": "https://localhost:8080/"
        },
        "id": "sGc3sPyP48GO",
        "outputId": "7f9b0a3e-8af4-4076-85b1-9dd75b43051e"
      },
      "execution_count": 1,
      "outputs": [
        {
          "output_type": "stream",
          "name": "stdout",
          "text": [
            "Looking in indexes: https://pypi.org/simple, https://us-python.pkg.dev/colab-wheels/public/simple/\n",
            "Requirement already satisfied: mlxtend in /usr/local/lib/python3.7/dist-packages (0.14.0)\n",
            "Collecting mlxtend\n",
            "  Downloading mlxtend-0.20.0-py2.py3-none-any.whl (1.3 MB)\n",
            "\u001b[K     |████████████████████████████████| 1.3 MB 8.3 MB/s \n",
            "\u001b[?25hRequirement already satisfied: joblib>=0.13.2 in /usr/local/lib/python3.7/dist-packages (from mlxtend) (1.1.0)\n",
            "Requirement already satisfied: pandas>=0.24.2 in /usr/local/lib/python3.7/dist-packages (from mlxtend) (1.3.5)\n",
            "Requirement already satisfied: scipy>=1.2.1 in /usr/local/lib/python3.7/dist-packages (from mlxtend) (1.7.3)\n",
            "Requirement already satisfied: setuptools in /usr/local/lib/python3.7/dist-packages (from mlxtend) (57.4.0)\n",
            "Requirement already satisfied: scikit-learn>=1.0.2 in /usr/local/lib/python3.7/dist-packages (from mlxtend) (1.0.2)\n",
            "Requirement already satisfied: numpy>=1.16.2 in /usr/local/lib/python3.7/dist-packages (from mlxtend) (1.21.6)\n",
            "Requirement already satisfied: matplotlib>=3.0.0 in /usr/local/lib/python3.7/dist-packages (from mlxtend) (3.2.2)\n",
            "Requirement already satisfied: cycler>=0.10 in /usr/local/lib/python3.7/dist-packages (from matplotlib>=3.0.0->mlxtend) (0.11.0)\n",
            "Requirement already satisfied: pyparsing!=2.0.4,!=2.1.2,!=2.1.6,>=2.0.1 in /usr/local/lib/python3.7/dist-packages (from matplotlib>=3.0.0->mlxtend) (3.0.9)\n",
            "Requirement already satisfied: kiwisolver>=1.0.1 in /usr/local/lib/python3.7/dist-packages (from matplotlib>=3.0.0->mlxtend) (1.4.4)\n",
            "Requirement already satisfied: python-dateutil>=2.1 in /usr/local/lib/python3.7/dist-packages (from matplotlib>=3.0.0->mlxtend) (2.8.2)\n",
            "Requirement already satisfied: typing-extensions in /usr/local/lib/python3.7/dist-packages (from kiwisolver>=1.0.1->matplotlib>=3.0.0->mlxtend) (4.1.1)\n",
            "Requirement already satisfied: pytz>=2017.3 in /usr/local/lib/python3.7/dist-packages (from pandas>=0.24.2->mlxtend) (2022.2.1)\n",
            "Requirement already satisfied: six>=1.5 in /usr/local/lib/python3.7/dist-packages (from python-dateutil>=2.1->matplotlib>=3.0.0->mlxtend) (1.15.0)\n",
            "Requirement already satisfied: threadpoolctl>=2.0.0 in /usr/local/lib/python3.7/dist-packages (from scikit-learn>=1.0.2->mlxtend) (3.1.0)\n",
            "Installing collected packages: mlxtend\n",
            "  Attempting uninstall: mlxtend\n",
            "    Found existing installation: mlxtend 0.14.0\n",
            "    Uninstalling mlxtend-0.14.0:\n",
            "      Successfully uninstalled mlxtend-0.14.0\n",
            "Successfully installed mlxtend-0.20.0\n"
          ]
        }
      ]
    },
    {
      "cell_type": "code",
      "execution_count": 2,
      "metadata": {
        "id": "FiM3L3EO4THv"
      },
      "outputs": [],
      "source": [
        "# checking bias and variance for Decision tree example\n",
        "from mlxtend.evaluate import bias_variance_decomp\n",
        "from sklearn.tree import DecisionTreeClassifier\n",
        "from mlxtend.data import iris_data\n",
        "from sklearn.model_selection import train_test_split\n"
      ]
    },
    {
      "cell_type": "code",
      "source": [
        "# Get Data Set\n",
        "X, y = iris_data()\n",
        "X_train_ds, X_test_ds, y_train_ds, y_test_ds = train_test_split(X, y,\n",
        "test_size=0.3,\n",
        "random_state=123,\n",
        "shuffle=True,\n",
        "stratify=y)"
      ],
      "metadata": {
        "id": "HjUr1Hv-4TuY"
      },
      "execution_count": 3,
      "outputs": []
    },
    {
      "cell_type": "code",
      "source": [
        "# Define Algorithm \n",
        "tree = DecisionTreeClassifier(random_state=123)\n",
        "# Get Bias and Variance - bias_variance_decomp function\n",
        "avg_expected_loss, avg_bias, avg_var = bias_variance_decomp(\n",
        "tree, X_train_ds, y_train_ds, X_test_ds, y_test_ds, \n",
        "loss='0-1_loss',\n",
        "random_seed=123,\n",
        "num_rounds=500)# changed the value from 1000 to 500"
      ],
      "metadata": {
        "id": "bq_y95f14Txz"
      },
      "execution_count": 6,
      "outputs": []
    },
    {
      "cell_type": "code",
      "source": [
        "# Display Bias and Variance\n",
        "print(f'Average Expected Loss: {round(avg_expected_loss, 4)}n')\n",
        "print(f'Average Bias: {round(avg_bias, 4)}')\n",
        "print(f'Average Variance: {round(avg_var, 4)}')"
      ],
      "metadata": {
        "colab": {
          "base_uri": "https://localhost:8080/"
        },
        "id": "Dl6P5aLb4T1Q",
        "outputId": "0c04b22e-6b3d-4e31-b811-f2e17e98b429"
      },
      "execution_count": 7,
      "outputs": [
        {
          "output_type": "stream",
          "name": "stdout",
          "text": [
            "Average Expected Loss: 0.0602n\n",
            "Average Bias: 0.0222\n",
            "Average Variance: 0.0386\n"
          ]
        }
      ]
    },
    {
      "cell_type": "markdown",
      "source": [
        "Bagging Example for Bias and Variance"
      ],
      "metadata": {
        "id": "glyFWuQS8wyq"
      }
    },
    {
      "cell_type": "code",
      "source": [
        "from sklearn.ensemble import BaggingClassifier"
      ],
      "metadata": {
        "id": "x6DFBDUd4T7Z"
      },
      "execution_count": 8,
      "outputs": []
    },
    {
      "cell_type": "code",
      "source": [
        "# Define Algorithm \n",
        "tree = DecisionTreeClassifier(random_state=123)\n",
        "bag = BaggingClassifier(base_estimator=tree,\n",
        "n_estimators=100,\n",
        "random_state=123)"
      ],
      "metadata": {
        "id": "tCER0p_k4T9y"
      },
      "execution_count": 9,
      "outputs": []
    },
    {
      "cell_type": "code",
      "source": [
        "# Get Bias and Variance - bias_variance_decomp function\n",
        "avg_expected_loss, avg_bias, avg_var = bias_variance_decomp(\n",
        "bag, X_train_ds, y_train_ds, X_test_ds, y_test_ds, \n",
        "loss='0-1_loss',\n",
        "random_seed=123,\n",
        "num_rounds=1000)"
      ],
      "metadata": {
        "id": "fzxAMJZ04UA5"
      },
      "execution_count": 10,
      "outputs": []
    },
    {
      "cell_type": "code",
      "source": [
        "# Display Bias and Variance\n",
        "print(f'Average Expected Loss: {round(avg_expected_loss, 4)}n')\n",
        "print(f'Average Bias: {round(avg_bias, 4)}')\n",
        "print(f'Average Variance: {round(avg_var, 4)}')"
      ],
      "metadata": {
        "colab": {
          "base_uri": "https://localhost:8080/"
        },
        "id": "grHFL8fR4UED",
        "outputId": "b90fed86-1450-4318-ca41-db409ac2ebac"
      },
      "execution_count": 11,
      "outputs": [
        {
          "output_type": "stream",
          "name": "stdout",
          "text": [
            "Average Expected Loss: 0.0459n\n",
            "Average Bias: 0.0222\n",
            "Average Variance: 0.024\n"
          ]
        }
      ]
    },
    {
      "cell_type": "markdown",
      "source": [
        "for Linear Regression Example"
      ],
      "metadata": {
        "id": "Ip_i_C7M-B5W"
      }
    },
    {
      "cell_type": "code",
      "source": [
        "from sklearn import linear_model\n",
        "import numpy as np\n",
        "from sklearn.metrics import mean_squared_error"
      ],
      "metadata": {
        "id": "7V6HquV2-ADa"
      },
      "execution_count": 12,
      "outputs": []
    },
    {
      "cell_type": "code",
      "source": [
        "def calculate_bias_variance(xTest, ytest, model):\n",
        "  ar = np.array([[[1],[2],[3]], [[2],[4],[6]]])\n",
        "  y = ar[1,:]\n",
        "  x = ar[0,:]\n",
        "  if model == 1:\n",
        "    reg = linear_model.LinearRegression()\n",
        "    reg.fit(x,y)\n",
        "    print(f'nLeast Square Coefficients: {reg.coef_}')\n",
        "  if model == 2:\n",
        "    reg = linear_model.Ridge (alpha = 0.1)\n",
        "    reg.fit(x,y)\n",
        "    print(f'nRidged Coefficients: {reg.coef_}')\n",
        "  if model == 3:    \n",
        "    reg = linear_model.Lasso(alpha = 0.1)\n",
        "    reg.fit(x,y)\n",
        "    print(f'nLasso Coefficients: {reg.coef_}')\n",
        "\n",
        "  preds = reg.predict(xTest)\n",
        "  er = []\n",
        "  for i in range(len(ytest)):\n",
        "    print( \"Actual=\", ytest[i], \" Preds=\", preds[i])\n",
        "  x = (ytest[i] - preds[i]) **2\n",
        "  er.append(x)\n",
        "  variance_value = np.var(er)\n",
        "  print (f\"Variance {round(variance_value, 2)}\")\n",
        "  print(f\"Bias: {round(mean_squared_error(ytest,preds), 2)}\")\n"
      ],
      "metadata": {
        "id": "jQKqnhNG-AHC"
      },
      "execution_count": 13,
      "outputs": []
    },
    {
      "cell_type": "code",
      "source": [
        "dateset_a = np.array([[4],[5],[6]])\n",
        "dateset_b = np.array([[8.8],[14],[17]])\n",
        "# Least Square Coefficients\n",
        "calculate_bias_variance(dateset_a,dateset_b, 1)\n",
        "# Ridged Coefficients\n",
        "calculate_bias_variance(dateset_a,dateset_b, 2)\n",
        "# Lasso Coefficients\n",
        "calculate_bias_variance(dateset_a,dateset_b, 3)"
      ],
      "metadata": {
        "colab": {
          "base_uri": "https://localhost:8080/"
        },
        "id": "aKcRx3g3-AK9",
        "outputId": "7b991ffd-8242-4aba-980b-8ab5e6250a23"
      },
      "execution_count": 15,
      "outputs": [
        {
          "output_type": "stream",
          "name": "stdout",
          "text": [
            "nLeast Square Coefficients: [[2.]]\n",
            "Actual= [8.8]  Preds= [8.]\n",
            "Actual= [14.]  Preds= [10.]\n",
            "Actual= [17.]  Preds= [12.]\n",
            "Variance 0.0\n",
            "Bias: 13.88\n",
            "nRidged Coefficients: [[1.9047619]]\n",
            "Actual= [8.8]  Preds= [7.80952381]\n",
            "Actual= [14.]  Preds= [9.71428571]\n",
            "Actual= [17.]  Preds= [11.61904762]\n",
            "Variance 0.0\n",
            "Bias: 16.1\n",
            "nLasso Coefficients: [1.85]\n",
            "Actual= [8.8]  Preds= 7.7\n",
            "Actual= [14.]  Preds= 9.55\n",
            "Actual= [17.]  Preds= 11.400000000000002\n",
            "Variance 0.0\n",
            "Bias: 17.46\n"
          ]
        }
      ]
    },
    {
      "cell_type": "code",
      "source": [
        ""
      ],
      "metadata": {
        "id": "egwh5kuYAHds"
      },
      "execution_count": null,
      "outputs": []
    },
    {
      "cell_type": "code",
      "source": [
        ""
      ],
      "metadata": {
        "id": "1M7jVfgO-AQM"
      },
      "execution_count": null,
      "outputs": []
    },
    {
      "cell_type": "code",
      "source": [
        ""
      ],
      "metadata": {
        "id": "YLzVFq2s-AT_"
      },
      "execution_count": null,
      "outputs": []
    },
    {
      "cell_type": "code",
      "source": [
        ""
      ],
      "metadata": {
        "id": "9omNDqsG-AW8"
      },
      "execution_count": null,
      "outputs": []
    },
    {
      "cell_type": "code",
      "source": [
        ""
      ],
      "metadata": {
        "id": "bLI2mxMp-AaP"
      },
      "execution_count": null,
      "outputs": []
    },
    {
      "cell_type": "code",
      "source": [
        ""
      ],
      "metadata": {
        "id": "bP5N8MS--AdU"
      },
      "execution_count": null,
      "outputs": []
    }
  ]
}